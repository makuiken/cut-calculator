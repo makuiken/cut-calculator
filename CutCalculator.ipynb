{
  "cells": [
    {
      "cell_type": "markdown",
      "metadata": {
        "id": "pf1i46VnWAs2"
      },
      "source": [
        "# Cut Calculator"
      ]
    },
    {
      "cell_type": "code",
      "execution_count": null,
      "metadata": {
        "id": "xmXE36oCJZNS"
      },
      "outputs": [],
      "source": [
        "import math"
      ]
    },
    {
      "cell_type": "code",
      "execution_count": null,
      "metadata": {
        "cellView": "form",
        "id": "Q1rapQwiO_vN"
      },
      "outputs": [],
      "source": [
        "# @title User Input\n",
        "desired = 10 # @param {type:\"integer\"}\n",
        "selected = 48 # @param {type: \"integer\"}\n",
        "quantity = 5 # @param {type: \"integer\"}\n",
        "min_size = 12 # @param {type: \"integer\"}"
      ]
    },
    {
      "cell_type": "markdown",
      "metadata": {
        "id": "U1ohshcQvwm7"
      },
      "source": [
        "Determine how many boards can be cut from the selected length\n",
        "\n",
        "\n",
        "*   If the selected length is divisible by the desired length:\n",
        "  * Integer divide selected length by the desired length\n",
        "*   Otherwise:\n",
        "  * Subtract the selected size by the minimum board size, and integer divide the difference by the desired size\n",
        "\n"
      ]
    },
    {
      "cell_type": "code",
      "execution_count": null,
      "metadata": {
        "id": "bDnDKMOCPCzs"
      },
      "outputs": [],
      "source": [
        "if selected % desired == 0:\n",
        "  can_cut = math.ceil(selected / desired)\n",
        "  can_cut\n",
        "  min_size = 0\n",
        "\n",
        "else:\n",
        "  can_cut = math.floor((selected - min_size) / desired)\n",
        "  can_cut"
      ]
    },
    {
      "cell_type": "markdown",
      "metadata": {
        "id": "MjrPe8JdxNrb"
      },
      "source": [
        "Maximum Boards per full length:\n",
        "\n"
      ]
    },
    {
      "cell_type": "code",
      "execution_count": null,
      "metadata": {
        "colab": {
          "base_uri": "https://localhost:8080/"
        },
        "id": "rdu8H0iX_AIp",
        "outputId": "3f9640e2-3877-47c6-8d0e-698f994e7bb7"
      },
      "outputs": [
        {
          "output_type": "execute_result",
          "data": {
            "text/plain": [
              "3"
            ]
          },
          "metadata": {},
          "execution_count": 1420
        }
      ],
      "source": [
        "can_cut"
      ]
    },
    {
      "cell_type": "markdown",
      "metadata": {
        "id": "uABTRQAw0cEQ"
      },
      "source": [
        "Determine how many full lengths are needed:\n",
        "\n",
        "\n",
        "*   If the desired length is greater than half of the difference of the selected length and the minimum size\n",
        "  * Quantity is the same as the input quantity.\n",
        "*   If the desired length is less than half the difference of the selected length and the minimum size\n",
        "  * Quantity is the input quantity + 1\n",
        "\n"
      ]
    },
    {
      "cell_type": "code",
      "execution_count": null,
      "metadata": {
        "id": "GtFFd7RQAaq3"
      },
      "outputs": [],
      "source": [
        "if desired * can_cut <= selected:\n",
        "  boards_needed = math.ceil(quantity/can_cut)\n",
        "elif desired > ((selected - min_size)/2):\n",
        "  boards_needed = math.ceil(quantity/can_cut)\n",
        "else:\n",
        "  boards_needed = math.ceil(quantity/can_cut) + 1"
      ]
    },
    {
      "cell_type": "markdown",
      "metadata": {
        "id": "aiDcsz130X6U"
      },
      "source": [
        "Amount of full lengths needed:"
      ]
    },
    {
      "cell_type": "code",
      "execution_count": null,
      "metadata": {
        "colab": {
          "base_uri": "https://localhost:8080/"
        },
        "id": "ofTT_tupGG3J",
        "outputId": "1385c439-cc68-4e05-a79b-117b191411a1"
      },
      "outputs": [
        {
          "output_type": "execute_result",
          "data": {
            "text/plain": [
              "2"
            ]
          },
          "metadata": {},
          "execution_count": 1422
        }
      ],
      "source": [
        "boards_needed"
      ]
    },
    {
      "cell_type": "markdown",
      "metadata": {
        "id": "QboC9_Qk1mE8"
      },
      "source": [
        "Determine how many cuts will be made on the final board:\n",
        "\n",
        "* If it's possible to cut multiple boards from the full length:\n",
        "  * Integer divide the quantity of desired boards with the boards needed\n",
        "* If only one board can be cut from a full length:\n",
        "  * The final cut is the remainder of quantity over the maximum cuts\n",
        "  * If the remainder is 0, the final cut is the max amount of cuts\n",
        "* Otherwise the cutoff board is half the selected length\n",
        "  * The cutoff amount will always be 1 for a half-length"
      ]
    },
    {
      "cell_type": "code",
      "execution_count": null,
      "metadata": {
        "id": "7PP8EFQl9tAS"
      },
      "outputs": [],
      "source": [
        "if can_cut > 1 and desired * quantity < selected:\n",
        "  final_board_cut = 1\n",
        "elif can_cut > 1:\n",
        "  final_board_cut = (quantity % can_cut)\n",
        "  if final_board_cut == 0:\n",
        "    final_board_cut = can_cut\n",
        "else:\n",
        "  final_board_cut = 1"
      ]
    },
    {
      "cell_type": "markdown",
      "metadata": {
        "id": "0whcmtcN2RAy"
      },
      "source": [
        "Cuts in the final board:"
      ]
    },
    {
      "cell_type": "code",
      "execution_count": null,
      "metadata": {
        "id": "hYBqd5eMJzfd",
        "colab": {
          "base_uri": "https://localhost:8080/"
        },
        "outputId": "a83505a4-031d-4df4-bb76-2cc00643d33c"
      },
      "outputs": [
        {
          "output_type": "execute_result",
          "data": {
            "text/plain": [
              "2"
            ]
          },
          "metadata": {},
          "execution_count": 1424
        }
      ],
      "source": [
        "final_board_cut"
      ]
    },
    {
      "cell_type": "markdown",
      "metadata": {
        "id": "tLgb-55w2UoF"
      },
      "source": [
        "Populate a list of remaining lengths:\n",
        "* If multiple boards are cut:\n",
        "  * Loop through number of boards - 1\n",
        "  * append the difference between the selected length and amount cut off\n",
        "  * Escape Loop and append the length of the cutoff of the final board\n",
        "* If only one board is cut:\n",
        "  * Subtract the length of the cutoff from the selected length"
      ]
    },
    {
      "cell_type": "code",
      "execution_count": null,
      "metadata": {
        "id": "zoxqTNuUHJr0"
      },
      "outputs": [],
      "source": [
        "remaining = []\n",
        "if boards_needed > 1:\n",
        "  for i in range(boards_needed-1):\n",
        "    remaining.append(selected - (can_cut * desired))\n",
        "  remaining.append(selected - (final_board_cut * desired))\n",
        "else:\n",
        "  remaining.append(selected - desired * quantity)"
      ]
    },
    {
      "cell_type": "markdown",
      "metadata": {
        "id": "mACYz5wT3NHJ"
      },
      "source": [
        "List of lengths remaining:"
      ]
    },
    {
      "cell_type": "code",
      "execution_count": null,
      "metadata": {
        "id": "EFBaa5kW9rFK",
        "colab": {
          "base_uri": "https://localhost:8080/"
        },
        "outputId": "309b8303-27da-4298-f10e-8e5f65c9472c"
      },
      "outputs": [
        {
          "output_type": "execute_result",
          "data": {
            "text/plain": [
              "[18, 28]"
            ]
          },
          "metadata": {},
          "execution_count": 1426
        }
      ],
      "source": [
        "remaining"
      ]
    }
  ],
  "metadata": {
    "colab": {
      "toc_visible": true,
      "provenance": [],
      "authorship_tag": "ABX9TyNNVn0CkYaSmt1gMoohqfqt"
    },
    "kernelspec": {
      "display_name": "Python 3",
      "name": "python3"
    },
    "language_info": {
      "name": "python"
    }
  },
  "nbformat": 4,
  "nbformat_minor": 0
}