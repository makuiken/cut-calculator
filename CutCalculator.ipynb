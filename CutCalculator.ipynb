{
  "cells": [
    {
      "cell_type": "markdown",
      "metadata": {
        "id": "view-in-github",
        "colab_type": "text"
      },
      "source": [
        "<a href=\"https://colab.research.google.com/github/makuiken/cut-calculator/blob/main/CutCalculator.ipynb\" target=\"_parent\"><img src=\"https://colab.research.google.com/assets/colab-badge.svg\" alt=\"Open In Colab\"/></a>"
      ]
    },
    {
      "cell_type": "markdown",
      "metadata": {
        "id": "pf1i46VnWAs2"
      },
      "source": [
        "# Cut Calculator"
      ]
    },
    {
      "cell_type": "code",
      "execution_count": 169,
      "metadata": {
        "id": "xmXE36oCJZNS"
      },
      "outputs": [],
      "source": [
        "import math"
      ]
    },
    {
      "cell_type": "markdown",
      "source": [
        "* desired = Desired cut piece length\n",
        "* selected = Length of board being cut from\n",
        "* quantity = How many cut pieces are desired\n",
        "* min_size = The minimum size of waste pieces to be left over\n",
        "\n"
      ],
      "metadata": {
        "id": "xsZN_veydUKF"
      }
    },
    {
      "cell_type": "code",
      "execution_count": 170,
      "metadata": {
        "cellView": "form",
        "id": "Q1rapQwiO_vN"
      },
      "outputs": [],
      "source": [
        "# @title User Input\n",
        "desired = 8 # @param {type:\"integer\"}\n",
        "selected = 48 # @param {type: \"integer\"}\n",
        "quantity = 7 # @param {type: \"integer\"}\n",
        "min_size = 12 # @param {type: \"integer\"}"
      ]
    },
    {
      "cell_type": "markdown",
      "metadata": {
        "id": "U1ohshcQvwm7"
      },
      "source": [
        "Determine how many boards can be cut from the selected length\n",
        "\n",
        "\n",
        "*   If the selected length is divisible by the desired length and the minimum size is less than the desired length:\n",
        "  * Round up the division of the selected length by the desired length\n",
        "*   Otherwise:\n",
        "  * Subtract the selected size by the minimum board size, and find the floor of dividing the difference by the desired size\n",
        "\n"
      ]
    },
    {
      "cell_type": "code",
      "execution_count": 171,
      "metadata": {
        "id": "bDnDKMOCPCzs"
      },
      "outputs": [],
      "source": [
        "if selected % desired == 0 and min_size <= desired:\n",
        "  can_cut = math.ceil(selected / desired)\n",
        "  can_cut\n",
        "  min_size = 0\n",
        "\n",
        "else:\n",
        "  can_cut = math.floor((selected - min_size) / desired)\n",
        "  can_cut"
      ]
    },
    {
      "cell_type": "markdown",
      "metadata": {
        "id": "MjrPe8JdxNrb"
      },
      "source": [
        "Maximum Boards per full length:\n",
        "\n"
      ]
    },
    {
      "cell_type": "code",
      "execution_count": 172,
      "metadata": {
        "colab": {
          "base_uri": "https://localhost:8080/"
        },
        "id": "rdu8H0iX_AIp",
        "outputId": "33cba4ee-73dd-4fbb-d8c8-1931233657f4"
      },
      "outputs": [
        {
          "output_type": "execute_result",
          "data": {
            "text/plain": [
              "4"
            ]
          },
          "metadata": {},
          "execution_count": 172
        }
      ],
      "source": [
        "can_cut"
      ]
    },
    {
      "cell_type": "markdown",
      "metadata": {
        "id": "uABTRQAw0cEQ"
      },
      "source": [
        "Determine how many full lengths are needed:\n",
        "\n",
        "\n",
        "*   If the desired length is greater than half of the difference of the selected length and the minimum size\n",
        "  * The amount of boards needed is the ceiling of the division of quantity and the amount of cuts per board.\n",
        "*   If the desired length is less than half the difference of the selected length and the minimum size\n",
        "  * The amount of boards needed is also the ceiling of the division of quantity and the amount of cuts per board.\n",
        "* Otherwise:\n",
        "  * The amount of boards needed is the ceiling of the division of quantity and the amount of cuts per board + 1\n",
        "\n"
      ]
    },
    {
      "cell_type": "code",
      "execution_count": 173,
      "metadata": {
        "id": "GtFFd7RQAaq3"
      },
      "outputs": [],
      "source": [
        "if desired * can_cut <= selected:\n",
        "  boards_needed = math.ceil(quantity/can_cut)\n",
        "elif desired > ((selected - min_size)/2):\n",
        "  boards_needed = math.ceil(quantity/can_cut)\n",
        "else:\n",
        "  boards_needed = math.ceil(quantity/can_cut) + 1"
      ]
    },
    {
      "cell_type": "markdown",
      "metadata": {
        "id": "aiDcsz130X6U"
      },
      "source": [
        "Amount of full lengths needed:"
      ]
    },
    {
      "cell_type": "code",
      "execution_count": 174,
      "metadata": {
        "colab": {
          "base_uri": "https://localhost:8080/"
        },
        "id": "ofTT_tupGG3J",
        "outputId": "726a09ac-a834-4070-f9c7-a439645fd4af"
      },
      "outputs": [
        {
          "output_type": "execute_result",
          "data": {
            "text/plain": [
              "2"
            ]
          },
          "metadata": {},
          "execution_count": 174
        }
      ],
      "source": [
        "boards_needed"
      ]
    },
    {
      "cell_type": "markdown",
      "metadata": {
        "id": "QboC9_Qk1mE8"
      },
      "source": [
        "Determine how many cuts will be made on the final board:\n",
        "\n",
        "* If it's possible to cut multiple boards from the full length and total length of desired boards is less than the selected length:\n",
        "  * The final board will need one cut\n",
        "* If multiple boards can be cut:\n",
        "  * The final cut is the remainder of the quantity over the maximum cuts\n",
        "  * If the remainder is 0, the final cut is the maximum amount of cuts\n",
        "* Otherwise:\n",
        "  * The final cut amount will be 1"
      ]
    },
    {
      "cell_type": "code",
      "execution_count": 175,
      "metadata": {
        "id": "7PP8EFQl9tAS"
      },
      "outputs": [],
      "source": [
        "if can_cut > 1 and desired * quantity < selected:\n",
        "  final_board_cut = 1\n",
        "elif can_cut > 1:\n",
        "  final_board_cut = (quantity % can_cut)\n",
        "  if final_board_cut == 0:\n",
        "    final_board_cut = can_cut\n",
        "else:\n",
        "  final_board_cut = 1"
      ]
    },
    {
      "cell_type": "markdown",
      "metadata": {
        "id": "0whcmtcN2RAy"
      },
      "source": [
        "Cuts in the final board:"
      ]
    },
    {
      "cell_type": "code",
      "execution_count": 176,
      "metadata": {
        "id": "hYBqd5eMJzfd",
        "colab": {
          "base_uri": "https://localhost:8080/"
        },
        "outputId": "1dc60460-a1cd-4d2f-dd30-b728d391a0f1"
      },
      "outputs": [
        {
          "output_type": "execute_result",
          "data": {
            "text/plain": [
              "3"
            ]
          },
          "metadata": {},
          "execution_count": 176
        }
      ],
      "source": [
        "final_board_cut"
      ]
    },
    {
      "cell_type": "markdown",
      "metadata": {
        "id": "tLgb-55w2UoF"
      },
      "source": [
        "Populate a list of remaining lengths:\n",
        "* If multiple boards are cut:\n",
        "  * Loop through number of boards - 1\n",
        "  * append the difference between the selected length and amount cut off\n",
        "  * Escape Loop and append the length of the cutoff of the final board\n",
        "* If only one board is cut:\n",
        "  * Subtract the length of the cutoff from the selected length"
      ]
    },
    {
      "cell_type": "code",
      "execution_count": 177,
      "metadata": {
        "id": "zoxqTNuUHJr0"
      },
      "outputs": [],
      "source": [
        "remaining = []\n",
        "if boards_needed > 1:\n",
        "  for i in range(boards_needed-1):\n",
        "    remaining.append(selected - (can_cut * desired))\n",
        "  remaining.append(selected - (final_board_cut * desired))\n",
        "else:\n",
        "  remaining.append(selected - desired * quantity)"
      ]
    },
    {
      "cell_type": "markdown",
      "metadata": {
        "id": "mACYz5wT3NHJ"
      },
      "source": [
        "List of lengths remaining:"
      ]
    },
    {
      "cell_type": "code",
      "execution_count": 178,
      "metadata": {
        "id": "EFBaa5kW9rFK",
        "colab": {
          "base_uri": "https://localhost:8080/"
        },
        "outputId": "dba46558-46d0-45c5-ccbc-a33ac7feee51"
      },
      "outputs": [
        {
          "output_type": "execute_result",
          "data": {
            "text/plain": [
              "[16, 24]"
            ]
          },
          "metadata": {},
          "execution_count": 178
        }
      ],
      "source": [
        "remaining"
      ]
    }
  ],
  "metadata": {
    "colab": {
      "toc_visible": true,
      "provenance": [],
      "authorship_tag": "ABX9TyOF19urCawEd1b+p/9YGBKU",
      "include_colab_link": true
    },
    "kernelspec": {
      "display_name": "Python 3",
      "name": "python3"
    },
    "language_info": {
      "name": "python"
    }
  },
  "nbformat": 4,
  "nbformat_minor": 0
}